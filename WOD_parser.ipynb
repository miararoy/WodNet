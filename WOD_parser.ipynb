{
 "cells": [
  {
   "cell_type": "code",
   "execution_count": 1,
   "metadata": {},
   "outputs": [],
   "source": [
    "import pandas as pd\n",
    "import datetime\n",
    "import wod_parser\n",
    "%load_ext autoreload\n",
    "%autoreload 2"
   ]
  },
  {
   "cell_type": "code",
   "execution_count": 12,
   "metadata": {},
   "outputs": [],
   "source": [
    "wod_parse = wod_parser.WodParser(base_url=\"https://www.crossfit.com/{}\",\n",
    "                                 date_str_fmt=\"%y%m%d\")"
   ]
  },
  {
   "cell_type": "code",
   "execution_count": 13,
   "metadata": {},
   "outputs": [
    {
     "data": {
      "text/plain": [
       "'<p>3 rounds for time of:</p>\\n\\n<p>Run 400 meters<br />\\n15 thrusters<br />\\n21 inverted burpees</p>\\n\\n<p>♀ 95 lb. ♂ 135 lb.</p>\\n\\n<p>Practice SLIPS for 15 minutes.</p>\\n'"
      ]
     },
     "execution_count": 13,
     "metadata": {},
     "output_type": "execute_result"
    }
   ],
   "source": [
    "wod_parse.get_wod(datetime.date.today())"
   ]
  },
  {
   "cell_type": "code",
   "execution_count": 7,
   "metadata": {},
   "outputs": [],
   "source": [
    "date = datetime.date.today()\n",
    "wod_dict = {}\n",
    "for _ in range(200):\n",
    "    wod_dict[date] = [wod_parse.get_wod(date)]\n",
    "    date = date - datetime.timedelta(days=1)\n",
    "wod_df = pd.DataFrame.from_dict(wod_dict, orient=\"index\", columns=[\"wod_text_raw\"])"
   ]
  },
  {
   "cell_type": "code",
   "execution_count": 21,
   "metadata": {},
   "outputs": [],
   "source": [
    "wod_df.iloc[:195,:].to_csv(\"wods.csv\")"
   ]
  },
  {
   "cell_type": "code",
   "execution_count": 28,
   "metadata": {},
   "outputs": [
    {
     "data": {
      "text/plain": [
       "['<p><a href=\"https://www.crossfit.com/workout/2008/10/10#/comments\">Mr. Joshua</a></p>\\n\\n<p>5 rounds for time of:</p>\\n\\n<p>Run 400 meters<br />\\n30 GHD sit-ups<br />\\n15 deadlifts</p>\\n\\n<p>♀ 165 lb. ♂ 250 lb.</p>\\n\\n<p>Post time to comments.<br />\\nCompare to <a href=\"https://www.crossfit.com/workout/2016/07/01#/comments\">160701</a>.</p>\\n']"
      ]
     },
     "execution_count": 28,
     "metadata": {},
     "output_type": "execute_result"
    }
   ],
   "source": [
    "wod_dict[datetime.date(2019,7,6)]"
   ]
  }
 ],
 "metadata": {
  "kernelspec": {
   "display_name": "Python 3",
   "language": "python",
   "name": "python3"
  },
  "language_info": {
   "codemirror_mode": {
    "name": "ipython",
    "version": 3
   },
   "file_extension": ".py",
   "mimetype": "text/x-python",
   "name": "python",
   "nbconvert_exporter": "python",
   "pygments_lexer": "ipython3",
   "version": "3.7.3"
  }
 },
 "nbformat": 4,
 "nbformat_minor": 2
}
